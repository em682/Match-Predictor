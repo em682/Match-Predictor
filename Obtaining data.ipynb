{
 "cells": [
  {
   "cell_type": "markdown",
   "metadata": {},
   "source": [
    "## Acquire all comments"
   ]
  },
  {
   "cell_type": "code",
   "execution_count": 1,
   "metadata": {},
   "outputs": [],
   "source": [
    "import praw\n",
    "import nltk\n",
    "import pandas as pd\n",
    "\n",
    "reddit = praw.Reddit(user_agent='Comment Extraction (by /u/Combatmeatball)',\n",
    "                     client_id='4EHtFfPEuH2nYg', client_secret=\"tLbFWv3A6Bz5OQGj2V3id40XEkw\",\n",
    "                     username='combatmeatball', password='cdgf123')\n"
   ]
  },
  {
   "cell_type": "code",
   "execution_count": 21,
   "metadata": {},
   "outputs": [],
   "source": [
    "win1 = reddit.submission(id='eafro9') #kings 12/13\n",
    "win2 = reddit.submission(id='e9jsyu') #warriors 12/11\n",
    "win3 = reddit.submission(id='dtqy15') #mavs 11/8\n",
    "win4 = reddit.submission(id='dwl4fv') #mavs 11/14\n",
    "win5 = reddit.submission(id='dye0h5') #cavs 11/18\n",
    "win6 = reddit.submission(id='doix9q') #bulls 10/28\n",
    "win7 = reddit.submission(id='ec6kou') #hawks 12/17\n",
    "win8 = reddit.submission(id='eg57e4') #nets 12/26\n",
    "\n",
    "lost1 = reddit.submission(id='eb9f8l') #nuggets 12/15\n",
    "lost2 = reddit.submission(id='e92ohs') #blazers 12/10\n",
    "lost3 = reddit.submission(id='e7o2gg') #pacers 12/7\n",
    "lost4 = reddit.submission(id='e6sblh') #nuggets 12/5\n",
    "lost5 = reddit.submission(id='e4pfyt') #celtics 12/1\n",
    "lost6 = reddit.submission(id='e5affc') #bucks 12/2\n",
    "lost7 = reddit.submission(id='e3ptov') #sixers 11/29\n",
    "lost8 = reddit.submission(id='eeuqso') #wizards 12/23\n",
    "lost9 = reddit.submission(id='edkl1r') #heat 12/20\n",
    "lost10 = reddit.submission(id='draeuh') #kings 11/3\n",
    "\n",
    "win_threads = [win1,win2,win3,win4,win5,win6,win7,win8]\n",
    "loss_threads = [lost1,lost2,lost3,lost4,lost5,lost6,lost7,lost8,lost9,lost10]"
   ]
  },
  {
   "cell_type": "code",
   "execution_count": 22,
   "metadata": {},
   "outputs": [],
   "source": [
    "win_comments = []\n",
    "lose_comments = []\n",
    "for win in win_threads:\n",
    "    win.comments.replace_more(limit=0)\n",
    "    for comment in win.comments.list():\n",
    "        win_comments.append(comment.body)\n",
    "for loss in loss_threads:\n",
    "    loss.comments.replace_more(limit=0)\n",
    "    for comment in loss.comments.list():\n",
    "        lose_comments.append(comment.body)"
   ]
  },
  {
   "cell_type": "code",
   "execution_count": 23,
   "metadata": {},
   "outputs": [],
   "source": [
    "winDf = pd.DataFrame(win_comments,columns = ['comment'])\n",
    "loseDf = pd.DataFrame(lose_comments,columns = ['comment'])\n",
    "winDf['label'] = 'win'\n",
    "loseDf['label'] = 'lose'\n"
   ]
  },
  {
   "cell_type": "code",
   "execution_count": 24,
   "metadata": {},
   "outputs": [
    {
     "data": {
      "text/html": [
       "<div>\n",
       "<style scoped>\n",
       "    .dataframe tbody tr th:only-of-type {\n",
       "        vertical-align: middle;\n",
       "    }\n",
       "\n",
       "    .dataframe tbody tr th {\n",
       "        vertical-align: top;\n",
       "    }\n",
       "\n",
       "    .dataframe thead th {\n",
       "        text-align: right;\n",
       "    }\n",
       "</style>\n",
       "<table border=\"1\" class=\"dataframe\">\n",
       "  <thead>\n",
       "    <tr style=\"text-align: right;\">\n",
       "      <th></th>\n",
       "      <th>comment</th>\n",
       "      <th>label</th>\n",
       "    </tr>\n",
       "  </thead>\n",
       "  <tbody>\n",
       "    <tr>\n",
       "      <th>0</th>\n",
       "      <td>Nobody:\\n\\n&amp;nbsp;\\n\\nMike Miller: 🙂</td>\n",
       "      <td>win</td>\n",
       "    </tr>\n",
       "    <tr>\n",
       "      <th>1</th>\n",
       "      <td>🚨**THE NEW YORK KNICKS HAVE A HEAD COACH**🚨</td>\n",
       "      <td>win</td>\n",
       "    </tr>\n",
       "    <tr>\n",
       "      <th>2</th>\n",
       "      <td>Mike Miller win streaks in 2019: 1\\n\\nDavid Fi...</td>\n",
       "      <td>win</td>\n",
       "    </tr>\n",
       "    <tr>\n",
       "      <th>3</th>\n",
       "      <td>You know what Mike Miller represents. Work and...</td>\n",
       "      <td>win</td>\n",
       "    </tr>\n",
       "    <tr>\n",
       "      <th>4</th>\n",
       "      <td>Miller has recognized that this team can only ...</td>\n",
       "      <td>win</td>\n",
       "    </tr>\n",
       "  </tbody>\n",
       "</table>\n",
       "</div>"
      ],
      "text/plain": [
       "                                             comment label\n",
       "0                Nobody:\\n\\n&nbsp;\\n\\nMike Miller: 🙂   win\n",
       "1        🚨**THE NEW YORK KNICKS HAVE A HEAD COACH**🚨   win\n",
       "2  Mike Miller win streaks in 2019: 1\\n\\nDavid Fi...   win\n",
       "3  You know what Mike Miller represents. Work and...   win\n",
       "4  Miller has recognized that this team can only ...   win"
      ]
     },
     "execution_count": 24,
     "metadata": {},
     "output_type": "execute_result"
    }
   ],
   "source": [
    "df_all = pd.concat([winDf, loseDf])\n",
    "df_all.head()"
   ]
  },
  {
   "cell_type": "code",
   "execution_count": 26,
   "metadata": {},
   "outputs": [
    {
     "name": "stdout",
     "output_type": "stream",
     "text": [
      "Out of 4946 rows, 2383 are wins, 2563 are losses\n"
     ]
    }
   ],
   "source": [
    "print(\"Out of {} rows, {} are wins, {} are losses\".format(len(df_all),\n",
    "                                                       len(df_all[df_all['label']=='win']),\n",
    "                                                       len(df_all[df_all['label']=='lose'])))"
   ]
  },
  {
   "cell_type": "markdown",
   "metadata": {},
   "source": [
    "## Data Cleaning\n",
    "### Removing "
   ]
  },
  {
   "cell_type": "code",
   "execution_count": 27,
   "metadata": {},
   "outputs": [
    {
     "data": {
      "text/html": [
       "<div>\n",
       "<style scoped>\n",
       "    .dataframe tbody tr th:only-of-type {\n",
       "        vertical-align: middle;\n",
       "    }\n",
       "\n",
       "    .dataframe tbody tr th {\n",
       "        vertical-align: top;\n",
       "    }\n",
       "\n",
       "    .dataframe thead th {\n",
       "        text-align: right;\n",
       "    }\n",
       "</style>\n",
       "<table border=\"1\" class=\"dataframe\">\n",
       "  <thead>\n",
       "    <tr style=\"text-align: right;\">\n",
       "      <th></th>\n",
       "      <th>comment</th>\n",
       "      <th>label</th>\n",
       "      <th>comment_clean</th>\n",
       "    </tr>\n",
       "  </thead>\n",
       "  <tbody>\n",
       "    <tr>\n",
       "      <th>0</th>\n",
       "      <td>Nobody:\\n\\n&amp;nbsp;\\n\\nMike Miller: 🙂</td>\n",
       "      <td>win</td>\n",
       "      <td>nobody mike miller</td>\n",
       "    </tr>\n",
       "    <tr>\n",
       "      <th>1</th>\n",
       "      <td>🚨**THE NEW YORK KNICKS HAVE A HEAD COACH**🚨</td>\n",
       "      <td>win</td>\n",
       "      <td>the new york knicks have head coach</td>\n",
       "    </tr>\n",
       "    <tr>\n",
       "      <th>2</th>\n",
       "      <td>Mike Miller win streaks in 2019: 1\\n\\nDavid Fi...</td>\n",
       "      <td>win</td>\n",
       "      <td>mike miller win streaks 2019 david fizdale win...</td>\n",
       "    </tr>\n",
       "    <tr>\n",
       "      <th>3</th>\n",
       "      <td>You know what Mike Miller represents. Work and...</td>\n",
       "      <td>win</td>\n",
       "      <td>you know what mike miller represents work and ...</td>\n",
       "    </tr>\n",
       "    <tr>\n",
       "      <th>4</th>\n",
       "      <td>Miller has recognized that this team can only ...</td>\n",
       "      <td>win</td>\n",
       "      <td>miller has recognized that this team can only ...</td>\n",
       "    </tr>\n",
       "  </tbody>\n",
       "</table>\n",
       "</div>"
      ],
      "text/plain": [
       "                                             comment label  \\\n",
       "0                Nobody:\\n\\n&nbsp;\\n\\nMike Miller: 🙂   win   \n",
       "1        🚨**THE NEW YORK KNICKS HAVE A HEAD COACH**🚨   win   \n",
       "2  Mike Miller win streaks in 2019: 1\\n\\nDavid Fi...   win   \n",
       "3  You know what Mike Miller represents. Work and...   win   \n",
       "4  Miller has recognized that this team can only ...   win   \n",
       "\n",
       "                                       comment_clean  \n",
       "0                                nobody mike miller   \n",
       "1               the new york knicks have head coach   \n",
       "2  mike miller win streaks 2019 david fizdale win...  \n",
       "3  you know what mike miller represents work and ...  \n",
       "4  miller has recognized that this team can only ...  "
      ]
     },
     "execution_count": 27,
     "metadata": {},
     "output_type": "execute_result"
    }
   ],
   "source": [
    "import regex as re\n",
    "import string\n",
    "# helper function to clean tweets\n",
    "def process(text):\n",
    "    # Remove HTML special entities (e.g. &amp;)\n",
    "    text = re.sub(r'\\&\\w*;', '', text)\n",
    "    #Convert @username to AT_USER\n",
    "    text = re.sub('@[^\\s]+','',text)\n",
    "    # Remove tickers\n",
    "    text = re.sub(r'\\$\\w*', '', text)\n",
    "    # To lowercase\n",
    "    text = text.lower()\n",
    "    # Remove hyperlinks\n",
    "    text = re.sub(r'https?:\\/\\/.*\\/\\w*', '', text)\n",
    "    # Remove hashtags\n",
    "    text = re.sub(r'#\\w*', '', text)\n",
    "    # Remove Punctuation and split 's, 't, 've with a space for filter\n",
    "    text = re.sub(r'[' + string.punctuation.replace('@', '') + ']+', ' ', text)\n",
    "    # Remove words with 2 or fewer letters\n",
    "    text = re.sub(r'\\b\\w{1,2}\\b', '', text)\n",
    "    # Remove whitespace (including new line characters)\n",
    "    text = re.sub(r'\\s\\s+', ' ', text)\n",
    "    # Remove single space remaining at the front of the tweet.\n",
    "    text = text.lstrip(' ') \n",
    "    # Remove characters beyond Basic Multilingual Plane (BMP) of Unicode:\n",
    "    text = ''.join(c for c in text if c <= '\\uFFFF') \n",
    "    return text\n",
    "\n",
    "df_all['comment_clean'] = df_all['comment'].apply(process)\n",
    "\n",
    "df_all.head()"
   ]
  },
  {
   "cell_type": "code",
   "execution_count": 28,
   "metadata": {},
   "outputs": [
    {
     "data": {
      "text/html": [
       "<div>\n",
       "<style scoped>\n",
       "    .dataframe tbody tr th:only-of-type {\n",
       "        vertical-align: middle;\n",
       "    }\n",
       "\n",
       "    .dataframe tbody tr th {\n",
       "        vertical-align: top;\n",
       "    }\n",
       "\n",
       "    .dataframe thead th {\n",
       "        text-align: right;\n",
       "    }\n",
       "</style>\n",
       "<table border=\"1\" class=\"dataframe\">\n",
       "  <thead>\n",
       "    <tr style=\"text-align: right;\">\n",
       "      <th></th>\n",
       "      <th>comment</th>\n",
       "      <th>label</th>\n",
       "      <th>comment_clean</th>\n",
       "      <th>tokenized</th>\n",
       "    </tr>\n",
       "  </thead>\n",
       "  <tbody>\n",
       "    <tr>\n",
       "      <th>0</th>\n",
       "      <td>Nobody:\\n\\n&amp;nbsp;\\n\\nMike Miller: 🙂</td>\n",
       "      <td>win</td>\n",
       "      <td>nobody mike miller</td>\n",
       "      <td>[nobody, mike, miller, ]</td>\n",
       "    </tr>\n",
       "    <tr>\n",
       "      <th>1</th>\n",
       "      <td>🚨**THE NEW YORK KNICKS HAVE A HEAD COACH**🚨</td>\n",
       "      <td>win</td>\n",
       "      <td>the new york knicks have head coach</td>\n",
       "      <td>[, new, york, knicks, head, coach, ]</td>\n",
       "    </tr>\n",
       "    <tr>\n",
       "      <th>2</th>\n",
       "      <td>Mike Miller win streaks in 2019: 1\\n\\nDavid Fi...</td>\n",
       "      <td>win</td>\n",
       "      <td>mike miller win streaks 2019 david fizdale win...</td>\n",
       "      <td>[mike, miller, win, streaks, 2019, david, fizd...</td>\n",
       "    </tr>\n",
       "    <tr>\n",
       "      <th>3</th>\n",
       "      <td>You know what Mike Miller represents. Work and...</td>\n",
       "      <td>win</td>\n",
       "      <td>you know what mike miller represents work and ...</td>\n",
       "      <td>[know, mike, miller, represents, work, home, g...</td>\n",
       "    </tr>\n",
       "    <tr>\n",
       "      <th>4</th>\n",
       "      <td>Miller has recognized that this team can only ...</td>\n",
       "      <td>win</td>\n",
       "      <td>miller has recognized that this team can only ...</td>\n",
       "      <td>[miller, recognized, team, thrive, payton, rob...</td>\n",
       "    </tr>\n",
       "  </tbody>\n",
       "</table>\n",
       "</div>"
      ],
      "text/plain": [
       "                                             comment label  \\\n",
       "0                Nobody:\\n\\n&nbsp;\\n\\nMike Miller: 🙂   win   \n",
       "1        🚨**THE NEW YORK KNICKS HAVE A HEAD COACH**🚨   win   \n",
       "2  Mike Miller win streaks in 2019: 1\\n\\nDavid Fi...   win   \n",
       "3  You know what Mike Miller represents. Work and...   win   \n",
       "4  Miller has recognized that this team can only ...   win   \n",
       "\n",
       "                                       comment_clean  \\\n",
       "0                                nobody mike miller    \n",
       "1               the new york knicks have head coach    \n",
       "2  mike miller win streaks 2019 david fizdale win...   \n",
       "3  you know what mike miller represents work and ...   \n",
       "4  miller has recognized that this team can only ...   \n",
       "\n",
       "                                           tokenized  \n",
       "0                           [nobody, mike, miller, ]  \n",
       "1               [, new, york, knicks, head, coach, ]  \n",
       "2  [mike, miller, win, streaks, 2019, david, fizd...  \n",
       "3  [know, mike, miller, represents, work, home, g...  \n",
       "4  [miller, recognized, team, thrive, payton, rob...  "
      ]
     },
     "execution_count": 28,
     "metadata": {},
     "output_type": "execute_result"
    }
   ],
   "source": [
    "stopwords = nltk.corpus.stopwords.words('english')\n",
    "def tokenize(text):\n",
    "    tokens = re.split('\\W+', text)\n",
    "    text = [word for word in tokens if word not in stopwords]\n",
    "    return text\n",
    "\n",
    "df_all['tokenized'] = df_all['comment_clean'].apply(tokenize)\n",
    "df_all.head()\n"
   ]
  },
  {
   "cell_type": "code",
   "execution_count": 29,
   "metadata": {},
   "outputs": [],
   "source": [
    "df_all.to_csv(\"Redditcomments_cleaned.csv\", sep=',')"
   ]
  },
  {
   "cell_type": "code",
   "execution_count": 30,
   "metadata": {},
   "outputs": [],
   "source": [
    "from sklearn.feature_extraction.text import TfidfVectorizer\n",
    "\n",
    "vectorizer = TfidfVectorizer(max_features=2000)\n",
    "vectorized = vectorizer.fit_transform(df_all['comment_clean']).toarray()"
   ]
  },
  {
   "cell_type": "code",
   "execution_count": 31,
   "metadata": {},
   "outputs": [],
   "source": [
    "from sklearn.model_selection import train_test_split\n",
    "\n",
    "X_train, X_test, y_train, y_test = train_test_split(vectorized, df_all['label'], test_size=0.2, random_state=42)"
   ]
  },
  {
   "cell_type": "code",
   "execution_count": 35,
   "metadata": {},
   "outputs": [
    {
     "data": {
      "text/plain": [
       "RandomForestClassifier(bootstrap=True, ccp_alpha=0.0, class_weight=None,\n",
       "                       criterion='gini', max_depth=None, max_features='auto',\n",
       "                       max_leaf_nodes=None, max_samples=None,\n",
       "                       min_impurity_decrease=0.0, min_impurity_split=None,\n",
       "                       min_samples_leaf=1, min_samples_split=2,\n",
       "                       min_weight_fraction_leaf=0.0, n_estimators=200,\n",
       "                       n_jobs=None, oob_score=False, random_state=0, verbose=0,\n",
       "                       warm_start=False)"
      ]
     },
     "execution_count": 35,
     "metadata": {},
     "output_type": "execute_result"
    }
   ],
   "source": [
    "from sklearn.ensemble import RandomForestClassifier\n",
    "\n",
    "win_classifier = RandomForestClassifier(n_estimators=200, random_state=0)\n",
    "win_classifier.fit(X_train, y_train)"
   ]
  },
  {
   "cell_type": "code",
   "execution_count": 36,
   "metadata": {},
   "outputs": [
    {
     "name": "stdout",
     "output_type": "stream",
     "text": [
      "[[333 167]\n",
      " [197 293]]\n",
      "              precision    recall  f1-score   support\n",
      "\n",
      "        lose       0.63      0.67      0.65       500\n",
      "         win       0.64      0.60      0.62       490\n",
      "\n",
      "    accuracy                           0.63       990\n",
      "   macro avg       0.63      0.63      0.63       990\n",
      "weighted avg       0.63      0.63      0.63       990\n",
      "\n",
      "0.6323232323232323\n"
     ]
    }
   ],
   "source": [
    "predictions = win_classifier.predict(X_test)\n",
    "from sklearn.metrics import classification_report, confusion_matrix, accuracy_score\n",
    "\n",
    "print(confusion_matrix(y_test,predictions))\n",
    "print(classification_report(y_test,predictions))\n",
    "print(accuracy_score(y_test, predictions))"
   ]
  },
  {
   "cell_type": "code",
   "execution_count": null,
   "metadata": {},
   "outputs": [],
   "source": []
  }
 ],
 "metadata": {
  "kernelspec": {
   "display_name": "Python 3",
   "language": "python",
   "name": "python3"
  },
  "language_info": {
   "codemirror_mode": {
    "name": "ipython",
    "version": 3
   },
   "file_extension": ".py",
   "mimetype": "text/x-python",
   "name": "python",
   "nbconvert_exporter": "python",
   "pygments_lexer": "ipython3",
   "version": "3.6.5"
  }
 },
 "nbformat": 4,
 "nbformat_minor": 2
}
